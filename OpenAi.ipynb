{
 "cells": [
  {
   "cell_type": "code",
   "execution_count": null,
   "metadata": {},
   "outputs": [],
   "source": [
    "import os\n",
    "os.environ['OPENAI_API_KEY'] = \"\""
   ]
  },
  {
   "cell_type": "code",
   "execution_count": 13,
   "metadata": {},
   "outputs": [
    {
     "name": "stdout",
     "output_type": "stream",
     "text": [
      "\n",
      "\n",
      "The capital of Kerala is Thiruvananthapuram.\n"
     ]
    }
   ],
   "source": [
    "from langchain.llms import OpenAI\n",
    "llm = OpenAI(temperature=0.9)\n",
    "name = llm.invoke(\"What is the capital of Kerala ?\")\n",
    "print(name)"
   ]
  },
  {
   "cell_type": "code",
   "execution_count": 14,
   "metadata": {},
   "outputs": [
    {
     "name": "stdout",
     "output_type": "stream",
     "text": [
      "\n",
      "\n",
      "\"Golden Lotus Thai Cuisine\"\n"
     ]
    }
   ],
   "source": [
    "from langchain.llms import OpenAI\n",
    "llm = OpenAI(temperature=0.9)\n",
    "name = llm.invoke(\"Suggest a name for my Thai restaurant\")\n",
    "print(name)"
   ]
  },
  {
   "cell_type": "code",
   "execution_count": 15,
   "metadata": {},
   "outputs": [
    {
     "name": "stdout",
     "output_type": "stream",
     "text": [
      "Suggest a name for my French restaurant\n"
     ]
    }
   ],
   "source": [
    "from langchain.prompts import PromptTemplate\n",
    "\n",
    "prompt_template_name = PromptTemplate(\n",
    "    input_variables = ['cuisine'],\n",
    "    template = 'Suggest a name for my {cuisine} restaurant'\n",
    ")\n",
    "\n",
    "p = prompt_template_name.format(cuisine=\"French\")\n",
    "print(p)"
   ]
  },
  {
   "cell_type": "code",
   "execution_count": 16,
   "metadata": {},
   "outputs": [
    {
     "name": "stdout",
     "output_type": "stream",
     "text": [
      "\n",
      "\n",
      "\u001b[1m> Entering new LLMChain chain...\u001b[0m\n",
      "Prompt after formatting:\n",
      "\u001b[32;1m\u001b[1;3mSuggest a name for my India restaurant\u001b[0m\n",
      "\n",
      "\u001b[1m> Finished chain.\u001b[0m\n"
     ]
    },
    {
     "data": {
      "text/plain": [
       "'\\n\\n\"Spice Nation\"'"
      ]
     },
     "execution_count": 16,
     "metadata": {},
     "output_type": "execute_result"
    }
   ],
   "source": [
    "from langchain.chains import LLMChain\n",
    "\n",
    "chain = LLMChain(llm=llm, prompt = prompt_template_name, verbose=True)\n",
    "chain.run(\"India\")"
   ]
  },
  {
   "cell_type": "code",
   "execution_count": 17,
   "metadata": {},
   "outputs": [],
   "source": [
    "llm = OpenAI(temperature=0.6)\n",
    "\n",
    "from langchain.prompts import PromptTemplate\n",
    "\n",
    "prompt_template_name = PromptTemplate(\n",
    "    input_variables = 'cuisine',\n",
    "    template = 'Suggest a name for my {cuisine} restaurant'\n",
    ")\n",
    "\n",
    "name_chain = LLMChain(llm=llm, prompt = prompt_template_name, verbose=True)\n",
    "\n",
    "prompt_template_items = PromptTemplate(\n",
    "    input_variables = ['restaurant_name'],\n",
    "    template = 'Suggest some menu items for {restaurant_name}'\n",
    ")\n",
    "\n",
    "food_items_chain = LLMChain(llm=llm, prompt=prompt_template_items)\n"
   ]
  },
  {
   "cell_type": "code",
   "execution_count": 18,
   "metadata": {},
   "outputs": [
    {
     "name": "stdout",
     "output_type": "stream",
     "text": [
      "\n",
      "\n",
      "\u001b[1m> Entering new LLMChain chain...\u001b[0m\n",
      "Prompt after formatting:\n",
      "\u001b[32;1m\u001b[1;3mSuggest a name for my American restaurant\u001b[0m\n",
      "\n",
      "\u001b[1m> Finished chain.\u001b[0m\n",
      "\n",
      "\n",
      "1. Classic Cheeseburger with Fries\n",
      "2. BBQ Pulled Pork Sandwich\n",
      "3. Fried Chicken and Waffles\n",
      "4. Philly Cheesesteak\n",
      "5. Cajun Shrimp Po' Boy\n",
      "6. New England Clam Chowder\n",
      "7. California Cobb Salad\n",
      "8. Texas Style Chili\n",
      "9. Southern Fried Catfish with Hushpuppies\n",
      "10. Chicago Deep Dish Pizza\n",
      "11. Hawaiian BBQ Chicken Skewers\n",
      "12. Maine Lobster Roll\n",
      "13. New York Style Reuben Sandwich\n",
      "14. Mississippi Mud Pie\n",
      "15. Florida Key Lime Pie.\n"
     ]
    }
   ],
   "source": [
    "from langchain.chains import SimpleSequentialChain\n",
    "chain = SimpleSequentialChain(chains=[name_chain, food_items_chain])\n",
    "\n",
    "content = chain.run(\"American\")\n",
    "print(content)"
   ]
  },
  {
   "cell_type": "code",
   "execution_count": 19,
   "metadata": {},
   "outputs": [],
   "source": [
    "llm = OpenAI(temperature=0.7)\n",
    "\n",
    "\n",
    "prompt_template_name = PromptTemplate(\n",
    "    input_variables = \"cuisine\",\n",
    "    template = \"Suggest a name for my {cuisine} restaurant\"\n",
    ")\n",
    "\n",
    "name_chain = LLMChain(llm=llm, prompt = prompt_template_name, output_key=\"restaurant_name\")\n"
   ]
  },
  {
   "cell_type": "code",
   "execution_count": 20,
   "metadata": {},
   "outputs": [],
   "source": [
    "llm = OpenAI(temperature=0.7)\n",
    "\n",
    "prompt_template_items = PromptTemplate(\n",
    "    input_variables = [\"restaurant_name\"],\n",
    "    template = \"Suggest some menu items for {restaurant_name}.\"\n",
    ")\n",
    "\n",
    "food_items_chain = LLMChain(llm=llm, prompt=prompt_template_items, output_key=\"menu_items\")\n"
   ]
  },
  {
   "cell_type": "code",
   "execution_count": 21,
   "metadata": {},
   "outputs": [],
   "source": [
    "from langchain.chains import SequentialChain\n",
    "\n",
    "chain = SequentialChain(\n",
    "    chains=[name_chain, food_items_chain],\n",
    "    input_variables=['cuisine'],\n",
    "    output_variables=['restaurant_name', \"menu_items\"]\n",
    ")\n"
   ]
  },
  {
   "cell_type": "code",
   "execution_count": 22,
   "metadata": {},
   "outputs": [
    {
     "data": {
      "text/plain": [
       "{'cuisine': 'Italian',\n",
       " 'restaurant_name': '\\n\\n\"La Trattoria Bella Vita\"',\n",
       " 'menu_items': '\\n\\n1. Insalata Caprese (Fresh mozzarella, tomatoes, and basil)\\n2. Bruschetta al Pomodoro (Toasted bread with fresh tomato and basil)\\n3. Spaghetti Carbonara (Pasta in a creamy egg and bacon sauce)\\n4. Risotto ai Funghi (Creamy mushroom risotto)\\n5. Pollo alla Cacciatora (Chicken braised in a tomato and herb sauce)\\n6. Vitello alla Milanese (Breaded and fried veal cutlet)\\n7. Gnocchi al Pesto (Potato dumplings in a basil pesto sauce)\\n8. Lasagna al Forno (Baked layers of pasta, meat sauce, and cheese)\\n9. Bistecca alla Fiorentina (Grilled T-bone steak with rosemary and garlic)\\n10. Tiramisu (Traditional Italian dessert made with ladyfingers, coffee, and mascarpone cheese)'}"
      ]
     },
     "execution_count": 22,
     "metadata": {},
     "output_type": "execute_result"
    }
   ],
   "source": [
    "chain({\"cuisine\": \"Italian\"})"
   ]
  }
 ],
 "metadata": {
  "kernelspec": {
   "display_name": "Python 3",
   "language": "python",
   "name": "python3"
  },
  "language_info": {
   "codemirror_mode": {
    "name": "ipython",
    "version": 3
   },
   "file_extension": ".py",
   "mimetype": "text/x-python",
   "name": "python",
   "nbconvert_exporter": "python",
   "pygments_lexer": "ipython3",
   "version": "3.10.11"
  }
 },
 "nbformat": 4,
 "nbformat_minor": 2
}
